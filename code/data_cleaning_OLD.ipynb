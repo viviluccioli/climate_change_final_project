{
 "cells": [
  {
   "cell_type": "code",
   "execution_count": 2,
   "metadata": {},
   "outputs": [],
   "source": [
    "import pandas as pd"
   ]
  },
  {
   "cell_type": "code",
   "execution_count": 15,
   "metadata": {},
   "outputs": [],
   "source": [
    "# convert full infectious disease txt file to dataframe\n",
    "cdc_data = pd.read_csv('../data/raw_data/Wonder_All_Diseases.txt', delimiter='\\t')\n",
    "\n",
    "cdc_data = cdc_data.drop(['Notes', 'Year Code', 'Disease Code', 'Regions/States Code'], axis=1)\n",
    "\n",
    "cdc_data.to_csv('../data/clean_data/cdc_full_data_2016-21.csv', index=False)"
   ]
  },
  {
   "cell_type": "code",
   "execution_count": 16,
   "metadata": {},
   "outputs": [],
   "source": [
    "# TRYING ALL VB DISEASES FIRST\n",
    "\n",
    "vb_disease = [\n",
    "    'Alpha-gal', 'anaplasm', 'bartonella', 'borrelia', 'bourbon', 'cache', 'cat scratch', 'chagas',\n",
    "    'chikungunya', 'tick', 'coxiella', 'Q fever', 'dengue', 'dirofilariasis', 'equine encephalitis',\n",
    "    'ehrlichiosis', 'typhus', 'tularemia', 'flea', 'heartland', 'insect repellent', 'jamestown', \n",
    "    'encephalitis', 'crosse', 'leishmaniasis', 'loiasis', 'louse-borne', 'lyme', 'lymphatic filariasis',\n",
    "    'malaria', 'mansonellosis', 'mayaro', 'mosquito', 'murine typhus', 'murray valley', 'onchocerciasis',\n",
    "    'o’nyong', 'scrub typhus', 'oropouche', 'permethrin', 'plaque', 'powassan', 'rickettsia', 'rift valley',\n",
    "    'rocky mountain', 'ross river', 'sinbis', 'spotted fever', 'STARI', 'usutu', 'west nile', 'yellow fever', 'zika'\n",
    "]\n",
    "\n",
    "pattern = '|'.join(vb_disease)\n",
    "\n",
    "# Filter the dataframe using str.contains (case-insensitive match, allowing partial matches)\n",
    "vbd = cdc_data[cdc_data['Disease'].str.contains(pattern, case=False, na=False)]\n"
   ]
  },
  {
   "cell_type": "code",
   "execution_count": 19,
   "metadata": {},
   "outputs": [],
   "source": [
    "vbd.to_csv('../data/clean_data/vbd_data.csv', index=False)"
   ]
  },
  {
   "cell_type": "code",
   "execution_count": 8,
   "metadata": {},
   "outputs": [],
   "source": [
    "# filter to only vector-borne diseases \n",
    "\n",
    "# List of disease-related keywords, based on this list: \n",
    "# Anaplasmosis\n",
    "# Babesiosis\n",
    "# Bourbon virus\n",
    "# Colorado tick fever\n",
    "# Ehrlichiosis\n",
    "# Hard tick relapsing fever\n",
    "# Heartland virus\n",
    "# Lyme disease\n",
    "# Powassan virus\n",
    "# Rickettsia parkeri rickettsiosis\n",
    "# Rocky Mountain spotted fever\n",
    "# Soft tick relapsing fever\n",
    "# STARI\n",
    "# Tularemia\n",
    "# 364D rickettsiosis\n",
    "tick_disease = [\n",
    "    'Alpha-gal', 'anaplasm', 'babesiosis', 'bourbon', 'colorado', \n",
    "    'ehrlichiosis', 'tick', 'heartland', 'lyme', 'powassan', 'rickettsi', \n",
    "    'rocky mountain', 'stari', 'tularemia'\n",
    "]\n",
    "\n",
    "# Create a regex pattern that matches any of the disease keywords (case insensitive)\n",
    "pattern = '|'.join(tick_disease)\n",
    "\n",
    "# Filter the dataframe using str.contains (case-insensitive match, allowing partial matches)\n",
    "tick_data = cdc_data[cdc_data['Disease'].str.contains(pattern, case=False, na=False)]\n",
    "\n",
    "# # subset to include only south atlantic region and states\n",
    "# regions_of_interest = ['South Atlantic', 'Delaware', 'District of Columbia', \n",
    "#                        'Florida', 'Georgia', 'Maryland', 'North Carolina', \n",
    "#                        'South Carolina', 'Virginia', 'West Virginia']\n",
    "\n",
    "# # Filter the dataframe\n",
    "# vbd = vbd[vbd['Regions/States'].isin(regions_of_interest)]"
   ]
  },
  {
   "cell_type": "code",
   "execution_count": 9,
   "metadata": {},
   "outputs": [
    {
     "name": "stdout",
     "output_type": "stream",
     "text": [
      "                                                Disease    Year  \\\n",
      "3312  Arboviral diseases, Powassan virus disease, Ne...  2016.0   \n",
      "3313  Arboviral diseases, Powassan virus disease, Ne...  2016.0   \n",
      "3314  Arboviral diseases, Powassan virus disease, Ne...  2016.0   \n",
      "3315  Arboviral diseases, Powassan virus disease, Ne...  2016.0   \n",
      "3316  Arboviral diseases, Powassan virus disease, Ne...  2016.0   \n",
      "\n",
      "     Regions/States Case Count  \n",
      "3312  United States         21  \n",
      "3313    New England          9  \n",
      "3314    Connecticut          1  \n",
      "3315          Maine          1  \n",
      "3316  Massachusetts          5  \n"
     ]
    }
   ],
   "source": [
    "print(tick_data.head())"
   ]
  },
  {
   "cell_type": "code",
   "execution_count": 16,
   "metadata": {},
   "outputs": [
    {
     "name": "stdout",
     "output_type": "stream",
     "text": [
      "['Arboviral diseases, Powassan virus disease, Neuroinvasive'\n",
      " 'Arboviral diseases, Powassan virus disease, Non-neuroinvasive'\n",
      " 'Babesiosis, Total' 'Babesiosis, Confirmed' 'Babesiosis, Probable'\n",
      " 'Ehrlichiosis and Anaplasmosis, Anaplasma phagocytophilum infection'\n",
      " 'Ehrlichiosis and Anaplasmosis, Ehrlichia chaffeensis infection'\n",
      " 'Ehrlichiosis and Anaplasmosis, Ehrlichia ewingii infection'\n",
      " 'Ehrlichiosis and Anaplasmosis, Undetermined ehrlichiosis/anaplasmosis'\n",
      " 'Lyme disease, Total' 'Lyme disease, Confirmed' 'Lyme disease, Probable'\n",
      " 'Spotted fever rickettsiosis, Total'\n",
      " 'Spotted fever rickettsiosis, Confirmed'\n",
      " 'Spotted fever rickettsiosis, Probable' 'Tularemia']\n"
     ]
    }
   ],
   "source": [
    "print(tick_data['Disease'].unique())"
   ]
  },
  {
   "cell_type": "code",
   "execution_count": 10,
   "metadata": {},
   "outputs": [],
   "source": [
    "tick_data.to_csv('../data/clean_data/tick_data.csv', index=False)"
   ]
  },
  {
   "cell_type": "code",
   "execution_count": 17,
   "metadata": {},
   "outputs": [],
   "source": [
    "regions_of_interest = ['South Atlantic', 'Delaware', 'District of Columbia', \n",
    "                       'Florida', 'Georgia', 'Maryland', 'North Carolina', \n",
    "                       'South Carolina', 'Virginia', 'West Virginia']\n",
    "\n",
    "# Filter the dataframe\n",
    "mosquito_states = vbd[vbd['Regions/States'].isin(regions_of_interest)]"
   ]
  },
  {
   "cell_type": "code",
   "execution_count": 18,
   "metadata": {},
   "outputs": [],
   "source": [
    "mosquito_diseases = ['malaria',\n",
    "    'chikungunya', 'Q fever', 'dengue', \n",
    "    'malaria', 'mosquito', 'west nile', 'yellow fever', 'zika']\n",
    "\n",
    "pattern = '|'.join(mosquito_diseases)\n",
    "\n",
    "# Filter the dataframe using str.contains (case-insensitive match, allowing partial matches)\n",
    "mosquito_data = mosquito_states[mosquito_states['Disease'].str.contains(pattern, case=False, na=False)]\n"
   ]
  },
  {
   "cell_type": "code",
   "execution_count": 20,
   "metadata": {},
   "outputs": [],
   "source": [
    "mosquito_data.to_csv('../data/clean_data/mosquito_data.csv', index=False)"
   ]
  },
  {
   "cell_type": "code",
   "execution_count": 19,
   "metadata": {},
   "outputs": [
    {
     "name": "stdout",
     "output_type": "stream",
     "text": [
      "                                           Disease    Year  \\\n",
      "441  Arboviral diseases, Chikungunya virus disease  2016.0   \n",
      "442  Arboviral diseases, Chikungunya virus disease  2016.0   \n",
      "443  Arboviral diseases, Chikungunya virus disease  2016.0   \n",
      "444  Arboviral diseases, Chikungunya virus disease  2016.0   \n",
      "445  Arboviral diseases, Chikungunya virus disease  2016.0   \n",
      "\n",
      "           Regions/States Case Count  \n",
      "441        South Atlantic         27  \n",
      "442              Delaware          1  \n",
      "443  District of Columbia          0  \n",
      "444               Florida          8  \n",
      "445               Georgia          1  \n"
     ]
    }
   ],
   "source": [
    "print(mosquito_data.head())"
   ]
  },
  {
   "cell_type": "markdown",
   "metadata": {},
   "source": [
    "Lyme Disease Dataset: "
   ]
  },
  {
   "cell_type": "code",
   "execution_count": 34,
   "metadata": {},
   "outputs": [],
   "source": [
    "# Try these different encodings until one works:\n",
    "lyme_data = pd.read_csv('../data/raw_data/Lyme_Disease_Cases_by_State_or_Locality.csv', encoding='latin1')\n",
    "\n",
    "lyme_data = pd.melt(lyme_data, id_vars = ['State'], var_name='Year', value_name='Count')\n",
    "\n",
    "lyme_data['State'] = lyme_data['State'].str.rstrip('Ü')"
   ]
  },
  {
   "cell_type": "code",
   "execution_count": 35,
   "metadata": {},
   "outputs": [
    {
     "name": "stdout",
     "output_type": "stream",
     "text": [
      "        State  Year Count\n",
      "0     Alabama  2008     9\n",
      "1      Alaska  2008     6\n",
      "2     Arizona  2008     8\n",
      "3    Arkansas  2008     0\n",
      "4  California  2008    74\n"
     ]
    }
   ],
   "source": [
    "print(lyme_data.head())\n"
   ]
  },
  {
   "cell_type": "code",
   "execution_count": 36,
   "metadata": {},
   "outputs": [],
   "source": [
    "lyme_data.to_csv('../data/clean_data/lyme_data.csv', index=False)"
   ]
  },
  {
   "cell_type": "code",
   "execution_count": null,
   "metadata": {},
   "outputs": [],
   "source": [
    "#!/bin/bash\n",
    "\n",
    "# Array of disease table numbers and names\n",
    "declare -A diseases=(\n",
    "    [\"220\"]=\"West_Nile\"\n",
    "    [\"60\"]=\"Chikungunya_virus_disease\"\n",
    "    [\"90\"]=\"Eastern_equine_encephalitis\"\n",
    "    [\"110\"]=\"Jamestown_Canyon\"\n",
    "    [\"140\"]=\"La_Crosse\"\n",
    "    [\"170\"]=\"Powassan\"\n",
    "    [\"200\"]=\"St_Louis_encephalitis\"\n",
    "    [\"241\"]=\"Western_equine_encephalitis\"\n",
    "    [\"250\"]=\"Babesiosis\"\n",
    "    [\"460\"]=\"Dengue\"\n",
    "    [\"860\"]=\"Malaria\"\n",
    "    [\"1000\"]=\"Plague\"\n",
    "    [\"1310\"]=\"Tularemia\"\n",
    "    [\"1400\"]=\"Yellow_fever\"\n",
    "    [\"1412\"]=\"Zika\"\n",
    ")\n",
    "\n",
    "# Years to process (2016-2024)\n",
    "years=($(seq 2008 2024))\n",
    "\n",
    "# Function to get the last week for a given year\n",
    "get_last_week() {\n",
    "    local year=$1\n",
    "    if [ \"$year\" -eq 2024 ]; then\n",
    "        echo \"45\"  # Current week for 2024\n",
    "    else\n",
    "        echo \"52\"  # Last week for previous years\n",
    "    fi\n",
    "}\n",
    "\n",
    "# Create output directory if it doesn't exist\n",
    "mkdir -p vector_borne_data\n",
    "\n",
    "# Loop through each disease and year\n",
    "for table_num in \"${!diseases[@]}\"; do\n",
    "    disease_name=\"${diseases[$table_num]}\"\n",
    "    \n",
    "    for year in \"${years[@]}\"; do\n",
    "        last_week=$(get_last_week $year)\n",
    "        \n",
    "        # Construct URL\n",
    "        url=\"https://wonder.cdc.gov/nndss/static/$year/$last_week/$year-$last_week-table$table_num.txt\"\n",
    "        output_file=\"vector_borne_data/${disease_name}_${year}_week_${last_week}.txt\"\n",
    "        \n",
    "        echo \"Downloading $disease_name data for $year week $last_week...\"\n",
    "        \n",
    "        # Download file\n",
    "        curl -s \"$url\" > \"$output_file\"\n",
    "        \n",
    "        # Extract only state names and Cum YTD column\n",
    "        # Using awk to process the tab-delimited file\n",
    "        if [ -f \"$output_file\" ]; then\n",
    "            # Process file to extract only needed columns\n",
    "            awk -F'\\t' 'BEGIN {OFS=\"\\t\"}\n",
    "                NR==1 {print \"State\", \"Year\", \"Disease\", \"Cases\"}\n",
    "                NR>1 && $1 !~ /^U.S.|^Total|^Non-U.S.|^Territories|^American|^Commonwealth|^Guam|^Puerto|^Virgin/ && $1 != \"\" {\n",
    "                    gsub(/-/, \"0\", $4)  # Replace - with 0\n",
    "                    print $1, \"'$year'\", \"'$disease_name'\", $4\n",
    "                }' \"$output_file\" > \"vector_borne_data/${disease_name}_${year}_processed.txt\"\n",
    "            \n",
    "            # Remove the original file\n",
    "            rm \"$output_file\"\n",
    "        fi\n",
    "        \n",
    "        # Add a small delay to not overwhelm the server\n",
    "        sleep 2\n",
    "    done\n",
    "done\n",
    "\n",
    "# Combine all processed files\n",
    "echo \"Combining all files...\"\n",
    "cat vector_borne_data/*_processed.txt > vector_borne_data/combined_vector_borne_data.txt\n",
    "\n",
    "# Clean up individual processed files\n",
    "rm vector_borne_data/*_processed.txt\n",
    "\n",
    "echo \"Data collection complete! Results are in vector_borne_data/combined_vector_borne_data.txt\""
   ]
  }
 ],
 "metadata": {
  "kernelspec": {
   "display_name": "base",
   "language": "python",
   "name": "python3"
  },
  "language_info": {
   "codemirror_mode": {
    "name": "ipython",
    "version": 3
   },
   "file_extension": ".py",
   "mimetype": "text/x-python",
   "name": "python",
   "nbconvert_exporter": "python",
   "pygments_lexer": "ipython3",
   "version": "3.12.2"
  }
 },
 "nbformat": 4,
 "nbformat_minor": 2
}
