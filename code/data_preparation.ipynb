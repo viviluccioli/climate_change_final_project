{
 "cells": [
  {
   "cell_type": "code",
   "execution_count": 2,
   "metadata": {},
   "outputs": [],
   "source": [
    "import pandas as pd"
   ]
  },
  {
   "cell_type": "code",
   "execution_count": 3,
   "metadata": {},
   "outputs": [],
   "source": [
    "lyme = pd.read_csv(\"../data/raw_data/lyme_fig-1.csv\")\n",
    "avg_temp = pd.read_csv(\"../data/raw_data/avg_temp_june_1990-2022.csv\")\n",
    " # max_temp = pd.read_csv(\"../data/raw_data/max_temp_june_1990-2022.csv\")\n",
    "min_temp = pd.read_csv(\"../data/raw_data/min_temp_june_1990-2022.csv\")\n",
    "precipitation = pd.read_csv(\"../data/raw_data/precipitation_june_1990-2022.csv\")\n",
    "cooling_degree = pd.read_csv(\"../data/raw_data/cooling_degree_days_june_1990-2022.csv\")\n",
    "pop = pd.read_csv(\"../data/raw_data/usa_pop_1991-2022_2042.csv\")"
   ]
  },
  {
   "cell_type": "code",
   "execution_count": 4,
   "metadata": {},
   "outputs": [
    {
     "name": "stdout",
     "output_type": "stream",
     "text": [
      "   Year  Avg_temp_june_value  Avg_temp_june_anomaly\n",
      "0  1990                70.21                   1.74\n",
      "1  1991                69.04                   0.57\n",
      "2  1992                67.41                  -1.06\n",
      "3  1993                67.19                  -1.28\n",
      "4  1994                70.93                   2.46\n"
     ]
    }
   ],
   "source": [
    "# AVG TEMP cleaning\n",
    "\n",
    "# remove the last two digits from the \"Date\" column ; rename it to \"Year\"\n",
    "avg_temp['Year'] = avg_temp['Date'].astype(str).str[:-2]\n",
    "\n",
    "# rename columns\n",
    "avg_temp = avg_temp.rename(columns={\n",
    "    'Value': 'Avg_temp_june_value',\n",
    "    'Anomaly': 'Avg_temp_june_anomaly'\n",
    "})\n",
    "\n",
    "# drop 'Date' column\n",
    "avg_temp = avg_temp.drop(columns=['Date'])\n",
    "\n",
    "# reorder \n",
    "avg_temp = avg_temp[['Year', 'Avg_temp_june_value', 'Avg_temp_june_anomaly']]\n",
    "\n",
    "print(avg_temp.head())\n"
   ]
  },
  {
   "cell_type": "code",
   "execution_count": 5,
   "metadata": {},
   "outputs": [
    {
     "name": "stdout",
     "output_type": "stream",
     "text": [
      "   Year  Min_temp_june_value  Min_temp_june_anomaly\n",
      "0  1990                57.20                   1.59\n",
      "1  1991                56.82                   1.21\n",
      "2  1992                55.06                  -0.55\n",
      "3  1993                55.13                  -0.48\n",
      "4  1994                57.96                   2.35\n"
     ]
    }
   ],
   "source": [
    "# MIN TEMP cleaning\n",
    "\n",
    "# remove the last two digits from the \"Date\" column ; rename it to \"Year\"\n",
    "min_temp['Year'] = min_temp['Date'].astype(str).str[:-2]\n",
    "\n",
    "# rename columns\n",
    "min_temp = min_temp.rename(columns={\n",
    "    'Value': 'Min_temp_june_value',\n",
    "    'Anomaly': 'Min_temp_june_anomaly'\n",
    "})\n",
    "\n",
    "# drop 'Date' column\n",
    "min_temp = min_temp.drop(columns=['Date'])\n",
    "\n",
    "# reorder \n",
    "min_temp = min_temp[['Year', 'Min_temp_june_value', 'Min_temp_june_anomaly']]\n",
    "\n",
    "print(min_temp.head())"
   ]
  },
  {
   "cell_type": "code",
   "execution_count": 6,
   "metadata": {},
   "outputs": [
    {
     "name": "stdout",
     "output_type": "stream",
     "text": [
      "   Year  Precipitation_june_value  Precipitation_june_anomaly\n",
      "0  1990                      2.50                       -0.42\n",
      "1  1991                      2.84                       -0.08\n",
      "2  1992                      3.39                        0.47\n",
      "3  1993                      3.61                        0.69\n",
      "4  1994                      2.90                       -0.02\n"
     ]
    }
   ],
   "source": [
    "# PRECIPITATION cleaning\n",
    "\n",
    "# remove the first two digits from the \"Date\" column ; rename it to \"Year\"\n",
    "precipitation['Year'] = precipitation['Date'].astype(str).str[:-2]\n",
    "\n",
    "# rename columns\n",
    "precipitation = precipitation.rename(columns={\n",
    "    'Value': 'Precipitation_june_value',\n",
    "    'Anomaly': 'Precipitation_june_anomaly'\n",
    "})\n",
    "\n",
    "# drop 'Date' column\n",
    "precipitation = precipitation.drop(columns=['Date'])\n",
    "\n",
    "# reorder \n",
    "precipitation = precipitation[['Year', 'Precipitation_june_value', 'Precipitation_june_anomaly']]\n",
    "\n",
    "print(precipitation.head())"
   ]
  },
  {
   "cell_type": "code",
   "execution_count": 7,
   "metadata": {},
   "outputs": [
    {
     "name": "stdout",
     "output_type": "stream",
     "text": [
      "   Year  Avg_cooling_degree_days_june  Avg_cooling_degree_days_june_anomaly\n",
      "0  1990                           237                                    26\n",
      "1  1991                           232                                    21\n",
      "2  1992                           175                                   -36\n",
      "3  1993                           208                                    -3\n",
      "4  1994                           264                                    53\n"
     ]
    }
   ],
   "source": [
    "# remove the first two digits from the \"Date\" column ; rename it to \"Year\"\n",
    "cooling_degree['Year'] = cooling_degree['Date'].astype(str).str[:-2]\n",
    "\n",
    "# rename columns\n",
    "cooling_degree = cooling_degree.rename(columns={\n",
    "    'Value': 'Avg_cooling_degree_days_june',\n",
    "    'Anomaly': 'Avg_cooling_degree_days_june_anomaly'\n",
    "})\n",
    "\n",
    "# drop 'Date' column\n",
    "cooling_degree = cooling_degree.drop(columns=['Date'])\n",
    "\n",
    "# reorder \n",
    "cooling_degree = cooling_degree[['Year', 'Avg_cooling_degree_days_june', 'Avg_cooling_degree_days_june_anomaly']]\n",
    "\n",
    "print(cooling_degree.head())"
   ]
  },
  {
   "cell_type": "code",
   "execution_count": 8,
   "metadata": {},
   "outputs": [
    {
     "name": "stdout",
     "output_type": "stream",
     "text": [
      "    Year  Population\n",
      "0   1991   252981000\n",
      "1   1992   256514000\n",
      "2   1993   259919000\n",
      "3   1994   263126000\n",
      "4   1995   266278000\n",
      "5   1996   269394000\n",
      "6   1997   272657000\n",
      "7   1998   275854000\n",
      "8   1999   279040000\n",
      "9   2000   282162411\n",
      "10  2001   284968955\n",
      "11  2002   287625193\n",
      "12  2003   290107933\n",
      "13  2004   292805298\n",
      "14  2005   295516599\n",
      "15  2006   298379912\n",
      "16  2007   301231207\n",
      "17  2008   304093966\n",
      "18  2009   306771529\n",
      "19  2010   309327143\n",
      "20  2011   311583481\n",
      "21  2012   313877662\n",
      "22  2013   316059947\n",
      "23  2014   318386329\n",
      "24  2015   320738994\n",
      "25  2016   323071755\n",
      "26  2017   325122128\n",
      "27  2018   326838199\n",
      "28  2019   328329953\n",
      "29  2020   331526933\n",
      "30  2021   332048977\n",
      "31  2022   333271411\n",
      "32  2042   361189504\n"
     ]
    }
   ],
   "source": [
    "# POPULATION cleaning \n",
    "pop = pd.DataFrame(pop)\n",
    "\n",
    "# Melt the data: Columns -> Rows\n",
    "pop_melted = pop.melt(id_vars=[\"Series Name\", \"Series Code\"], \n",
    "                    var_name=\"Year\", \n",
    "                    value_name=\"Population\")\n",
    "\n",
    "# clean the \"Year\" column by removing anything in square brackets\n",
    "pop_melted[\"Year\"] = pop_melted[\"Year\"].str.extract(r\"(\\d{4})\")\n",
    "\n",
    "# keep only the cleaned \"Year\" and \"Population\" columns\n",
    "pop_cleaned = pop_melted[[\"Year\", \"Population\"]]\n",
    "\n",
    "print(pop_cleaned)"
   ]
  },
  {
   "cell_type": "code",
   "execution_count": 9,
   "metadata": {},
   "outputs": [
    {
     "name": "stdout",
     "output_type": "stream",
     "text": [
      "   Year  Incidence_per_10000\n",
      "0  1991             3.743365\n",
      "1  1992             3.862554\n",
      "2  1993             3.176764\n",
      "3  1994             4.956944\n",
      "4  1995             4.393898\n"
     ]
    }
   ],
   "source": [
    "print(lyme.head())"
   ]
  },
  {
   "cell_type": "code",
   "execution_count": 10,
   "metadata": {},
   "outputs": [
    {
     "name": "stdout",
     "output_type": "stream",
     "text": [
      "   Year  Incidence_per_10000  Avg_temp_june_value  Avg_temp_june_anomaly  \\\n",
      "0  1991             3.743365                69.04                   0.57   \n",
      "1  1992             3.862554                67.41                  -1.06   \n",
      "2  1993             3.176764                67.19                  -1.28   \n",
      "3  1994             4.956944                70.93                   2.46   \n",
      "4  1995             4.393898                67.53                  -0.94   \n",
      "\n",
      "   Min_temp_june_value  Min_temp_june_anomaly  Precipitation_june_value  \\\n",
      "0                56.82                   1.21                      2.84   \n",
      "1                55.06                  -0.55                      3.39   \n",
      "2                55.13                  -0.48                      3.61   \n",
      "3                57.96                   2.35                      2.90   \n",
      "4                55.24                  -0.37                      3.22   \n",
      "\n",
      "   Precipitation_june_anomaly  Avg_cooling_degree_days_june  \\\n",
      "0                       -0.08                           232   \n",
      "1                        0.47                           175   \n",
      "2                        0.69                           208   \n",
      "3                       -0.02                           264   \n",
      "4                        0.30                           201   \n",
      "\n",
      "   Avg_cooling_degree_days_june_anomaly  Population  \n",
      "0                                    21   252981000  \n",
      "1                                   -36   256514000  \n",
      "2                                    -3   259919000  \n",
      "3                                    53   263126000  \n",
      "4                                   -10   266278000  \n"
     ]
    },
    {
     "name": "stderr",
     "output_type": "stream",
     "text": [
      "/var/folders/0s/3s0t3s4d31d4xtm_jt4pfhpr0000gn/T/ipykernel_99467/1369123667.py:5: SettingWithCopyWarning: \n",
      "A value is trying to be set on a copy of a slice from a DataFrame.\n",
      "Try using .loc[row_indexer,col_indexer] = value instead\n",
      "\n",
      "See the caveats in the documentation: https://pandas.pydata.org/pandas-docs/stable/user_guide/indexing.html#returning-a-view-versus-a-copy\n",
      "  df['Year'] = pd.to_numeric(df['Year'], errors='coerce')  # Convert to numeric, coercing errors if needed\n"
     ]
    }
   ],
   "source": [
    "from functools import reduce\n",
    "\n",
    "# Convert the 'Year' column in all DataFrames to numeric (integer)\n",
    "for df in [lyme, avg_temp, min_temp, precipitation, cooling_degree, pop_cleaned]:\n",
    "    df['Year'] = pd.to_numeric(df['Year'], errors='coerce')  # Convert to numeric, coercing errors if needed\n",
    "\n",
    "# Merge all DataFrames on the 'Year' column\n",
    "dataframes = [lyme, avg_temp, min_temp, precipitation, cooling_degree, pop_cleaned]\n",
    "merged_df = reduce(lambda left, right: left.merge(right, on='Year', how='inner'), dataframes)\n",
    "\n",
    "# Display the merged DataFrame\n",
    "print(merged_df.head())"
   ]
  },
  {
   "cell_type": "code",
   "execution_count": 11,
   "metadata": {},
   "outputs": [
    {
     "name": "stdout",
     "output_type": "stream",
     "text": [
      "   Year  Incidence_per_10000  Avg_temp_june_value  Avg_temp_june_anomaly  \\\n",
      "0  1991             3.743365                69.04                   0.57   \n",
      "1  1992             3.862554                67.41                  -1.06   \n",
      "2  1993             3.176764                67.19                  -1.28   \n",
      "3  1994             4.956944                70.93                   2.46   \n",
      "4  1995             4.393898                67.53                  -0.94   \n",
      "\n",
      "   Min_temp_june_value  Min_temp_june_anomaly  Precipitation_june_value  \\\n",
      "0                56.82                   1.21                      2.84   \n",
      "1                55.06                  -0.55                      3.39   \n",
      "2                55.13                  -0.48                      3.61   \n",
      "3                57.96                   2.35                      2.90   \n",
      "4                55.24                  -0.37                      3.22   \n",
      "\n",
      "   Precipitation_june_anomaly  Avg_cooling_degree_days_june  \\\n",
      "0                       -0.08                           232   \n",
      "1                        0.47                           175   \n",
      "2                        0.69                           208   \n",
      "3                       -0.02                           264   \n",
      "4                        0.30                           201   \n",
      "\n",
      "   Avg_cooling_degree_days_june_anomaly  Population  total_lyme_disease_counts  \n",
      "0                                    21   252981000               94700.022081  \n",
      "1                                   -36   256514000               99079.913469  \n",
      "2                                    -3   259919000               82570.130886  \n",
      "3                                    53   263126000              130430.088720  \n",
      "4                                   -10   266278000              116999.827312  \n"
     ]
    }
   ],
   "source": [
    "# creating NEW column of TOTAL LYME DISEASE COUNTS per year \n",
    "\n",
    "merged_df['total_lyme_disease_counts'] = (merged_df['Incidence_per_10000'] / 10000) * merged_df['Population']\n",
    "\n",
    "print(merged_df.head())\n"
   ]
  },
  {
   "cell_type": "code",
   "execution_count": 12,
   "metadata": {},
   "outputs": [],
   "source": [
    "merged_df.to_csv(\"../data/clean_data/merged_df.csv\", index=False)"
   ]
  }
 ],
 "metadata": {
  "kernelspec": {
   "display_name": "base",
   "language": "python",
   "name": "python3"
  },
  "language_info": {
   "codemirror_mode": {
    "name": "ipython",
    "version": 3
   },
   "file_extension": ".py",
   "mimetype": "text/x-python",
   "name": "python",
   "nbconvert_exporter": "python",
   "pygments_lexer": "ipython3",
   "version": "3.12.2"
  }
 },
 "nbformat": 4,
 "nbformat_minor": 2
}
